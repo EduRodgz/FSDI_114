{
 "cells": [
  {
   "cell_type": "code",
   "execution_count": 2,
   "id": "a7fab503-211d-457a-acc5-99481fac3f1e",
   "metadata": {},
   "outputs": [
    {
     "name": "stdout",
     "output_type": "stream",
     "text": [
      "h\n",
      "e\n",
      "l\n",
      "l\n",
      "o\n",
      " \n",
      ",\n",
      " \n",
      "w\n",
      "o\n",
      "r\n",
      "l\n",
      "d\n",
      "!\n"
     ]
    }
   ],
   "source": [
    "for char in \"hello , world!\":\n",
    "    print(char)\n"
   ]
  },
  {
   "cell_type": "markdown",
   "id": "36358dbc-aaa3-48ad-96cc-e93e6d129517",
   "metadata": {},
   "source": [
    "#Problem 1\n",
    "## Anagrem Check\n",
    "###Given two strings as parameters,generate a function that returns True if these are anagramas of each other, False otherwise.\n",
    "####Criteria\n",
    "Two strings are anargrams of each other if all of the conditions below are met:\n",
    "1. They must use the same exact letters, the same amount of times.\n",
    "2. They must be of equal lengths.\n",
    "\n",
    "'''\n",
    "Examples:\n",
    "1. cars and scar\n",
    "2. heart and earth\n",
    "3. star and rats\n",
    "'''"
   ]
  },
  {
   "cell_type": "code",
   "execution_count": null,
   "id": "371e57bf-5e82-4984-8e07-9e1c05561aca",
   "metadata": {},
   "outputs": [],
   "source": [
    "string 1 = string 2 are not the same length\n",
    "return false\n",
    "string 1 undercase letters = string 2 undercase letters do not have the same amount \n",
    "return false\n",
    "string 1 uppercase letters = string 2 uppercase letters do not have the same amount\n",
    "return false\n",
    "string 1 without spaces = string 2 without spaces are not the same length \n",
    "return false\n",
    "\n",
    "scan string 1/2 and create a list of uppercase letters and lowercase letters for each string.\n",
    "compare the string 1 and string 2 starting with special characters,uppercase letters and lowercase letters. \n",
    "If the length of both strings match with all spaces exempt then return true.\n",
    "\n",
    "\n",
    "\n",
    "string 1 = string 2 are the same length,with or without the spaces\n",
    "proceeds\n",
    "string 1 = string 2 under case letters have the same amount\n",
    "proceeds\n",
    "string 1 = string 2 upper case letters have the same amount\n",
    "proceeds \n",
    "return true\n"
   ]
  }
 ],
 "metadata": {
  "kernelspec": {
   "display_name": "Python 3 (ipykernel)",
   "language": "python",
   "name": "python3"
  },
  "language_info": {
   "codemirror_mode": {
    "name": "ipython",
    "version": 3
   },
   "file_extension": ".py",
   "mimetype": "text/x-python",
   "name": "python",
   "nbconvert_exporter": "python",
   "pygments_lexer": "ipython3",
   "version": "3.10.12"
  }
 },
 "nbformat": 4,
 "nbformat_minor": 5
}
