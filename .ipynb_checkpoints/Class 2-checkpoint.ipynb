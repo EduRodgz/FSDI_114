{
 "cells": [
  {
   "cell_type": "markdown",
   "id": "e4e2498d-0cbb-4e54-bdca-4aed9f283608",
   "metadata": {},
   "source": [
    "# Stacks\n"
   ]
  },
  {
   "cell_type": "code",
   "execution_count": 10,
   "id": "8fac69f7-06cd-4896-85e7-816ac830193a",
   "metadata": {},
   "outputs": [],
   "source": [
    "class Stack:\n",
    "    def __init__(self):\n",
    "        self.items = []\n",
    "    \n",
    "    def push(self, value):\n",
    "        self.items.append(value)\n",
    "        \n",
    "    def pop(self):\n",
    "        return self.items.pop()\n",
    "        \n",
    "    def peek(self):\n",
    "        return self.items[len(self.items)-1]\n",
    "\n",
    "    def size(self):\n",
    "        return len(self.items)\n",
    "\n",
    "    def is_empty(self):\n",
    "        return self.items == []"
   ]
  },
  {
   "cell_type": "code",
   "execution_count": 11,
   "id": "7ba2a84a-4ca2-4f26-865b-280c1f90fe97",
   "metadata": {},
   "outputs": [],
   "source": [
    "def invert_str(mystring):\n",
    "    stack = Stack()\n",
    "    for char in mystring:\n",
    "        stack.push(char)\n",
    "    out = \"\"\n",
    "    while not stack.is_empty():\n",
    "        out += stack.pop()\n",
    "    return out\n"
   ]
  },
  {
   "cell_type": "code",
   "execution_count": 17,
   "id": "a76c96e7-5781-4f50-a435-a8ae8b150b95",
   "metadata": {},
   "outputs": [
    {
     "data": {
      "text/plain": [
       "''"
      ]
     },
     "execution_count": 17,
     "metadata": {},
     "output_type": "execute_result"
    }
   ],
   "source": [
    "invert_str(\"\")"
   ]
  },
  {
   "cell_type": "code",
   "execution_count": 13,
   "id": "31103538-b9e8-4a38-9765-11bd6341a389",
   "metadata": {},
   "outputs": [
    {
     "name": "stdout",
     "output_type": "stream",
     "text": [
      "[1, 2, 3, 4]\n",
      "[1, 2, 3, 4]\n",
      "139620872133504\n",
      "139620872133504\n"
     ]
    }
   ],
   "source": [
    "x =[1, 2, 3,]\n",
    "y = x\n",
    "x.append(4)\n",
    "\n",
    "print(x)\n",
    "print(y)\n",
    "print(id(x))\n",
    "print(id(y))"
   ]
  },
  {
   "cell_type": "code",
   "execution_count": null,
   "id": "d7987f79-32b4-4e8d-a2fb-0523e2abb6ef",
   "metadata": {},
   "outputs": [],
   "source": [
    "# From scratch implementation of Stack\n",
    "\n",
    "class StackII:\n",
    "    class __Node:\n",
    "        def __init__(self, data):\n",
    "            self.data = data\n",
    "            self.below = None\n",
    "    def __init__(self):\n",
    "        self.top = None\n",
    "\n",
    "    def push(self, value):\n",
    "        new_node = self.__Node(value)\n",
    "        if not self.top:\n",
    "            self.top = new_node\n",
    "        else:\n",
    "            old_top = self.top\n",
    "            self.top = new_node\n",
    "            new_node.below = old_top\n",
    "            \n",
    "    def pop(self):\n",
    "        if self.top:\n",
    "            datum = self.top.data\n",
    "            self.top = self.top.below\n",
    "            return datum\n",
    "        raise IndexError(\"Stack is empty\")\n",
    "        \n",
    "    def peek(self):\n",
    "        if self.top:\n",
    "            return self.top.data\n",
    "        raise IndexError(\"Stack is empty\")\n",
    "        #create the stack, fill the stack, scan the stack, retrieve the data from stack and display without deleting the data after displaying.\n",
    "        \n",
    "    def size(self):\n",
    "        count = 0\n",
    "        current = self.top\n",
    "        while current:\n",
    "            current = current.below\n",
    "            count += 1\n",
    "        return count\n",
    "        \n",
    "    def is_empty(self):\n",
    "            if self.top == None:\n",
    "                return True\n",
    "            return False\n",
    "        #scan the stack and if no data can be retrieve display an \"empty\" message. "
   ]
  }
 ],
 "metadata": {
  "kernelspec": {
   "display_name": "Python 3 (ipykernel)",
   "language": "python",
   "name": "python3"
  },
  "language_info": {
   "codemirror_mode": {
    "name": "ipython",
    "version": 3
   },
   "file_extension": ".py",
   "mimetype": "text/x-python",
   "name": "python",
   "nbconvert_exporter": "python",
   "pygments_lexer": "ipython3",
   "version": "3.10.12"
  }
 },
 "nbformat": 4,
 "nbformat_minor": 5
}
